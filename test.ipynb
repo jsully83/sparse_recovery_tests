{
 "cells": [
  {
   "cell_type": "code",
   "execution_count": 4,
   "metadata": {},
   "outputs": [],
   "source": [
    "\n",
    "%reload_ext autoreload\n",
    "from pathlib import Path\n",
    "import torch\n",
    "import torch.nn as nn \n",
    "from torch.utils.data import DataLoader\n",
    "import numpy as np\n",
    "# import matplotlib.pyplot as plt\n",
    "import random\n",
    "from einops import rearrange\n"
   ]
  },
  {
   "cell_type": "code",
   "execution_count": 5,
   "metadata": {},
   "outputs": [],
   "source": [
    "\n",
    "%autoreload 2\n",
    "from crossView_UCLA_ske import NUCLA_CrossView\n",
    "from Dyan import Dyan\n",
    "# from torch.utils.tensorboard import SummaryWriter"
   ]
  },
  {
   "cell_type": "code",
   "execution_count": 6,
   "metadata": {},
   "outputs": [],
   "source": [
    "setup = 'setup1'\n",
    "dataType = '2D'\n",
    "sampling = 'Single'\n",
    "nClip = 1\n",
    "maskType = 'None'\n",
    "nw = 8\n",
    "\n",
    "learning_rate = 1.0e-4"
   ]
  },
  {
   "cell_type": "code",
   "execution_count": 7,
   "metadata": {},
   "outputs": [
    {
     "name": "stdout",
     "output_type": "stream",
     "text": [
      "Pytorch Version: 2.5.1 \n",
      " NVIDIA GeForce RTX 2080 Ti\n"
     ]
    }
   ],
   "source": [
    "seed = 1337\n",
    "\n",
    "# Set seed for PyTorch (CPU)\n",
    "torch.manual_seed(seed)\n",
    "random.seed(seed)\n",
    "np.random.seed(seed)\n",
    "\n",
    "# Set seed for PyTorch (GPU)\n",
    "if torch.cuda.is_available():\n",
    "    torch.cuda.manual_seed(seed)\n",
    "    torch.cuda.manual_seed_all(seed)  # If you use multiple GPUs\n",
    "\n",
    "# Make PyTorch operations deterministic (slows down computation but improves reproducibility)\n",
    "torch.backends.cudnn.deterministic = True\n",
    "torch.backends.cudnn.benchmark = False\n",
    "\n",
    "device = torch.device('cuda'if torch.cuda.is_available() else 'cpu')\n",
    "print(f'Pytorch Version: {torch.__version__} \\n {torch.cuda.get_device_name()}')\n",
    "\n",
    "test_name = 'default'\n",
    "output_path = Path('/home/rsl/sparse_recovery_tests/tests').joinpath(test_name)\n",
    "output_path.mkdir(parents=True, exist_ok=True)\n",
    "\n",
    "data_files_list = Path().home().joinpath('data', 'N-UCLA_MA_3D')\n",
    "if data_files_list.exists():\n",
    "        data_files_list = data_files_list.as_posix() + f\"/data/CV/{setup}/\"\n",
    "else:\n",
    "    raise FileExistsError\n"
   ]
  },
  {
   "cell_type": "code",
   "execution_count": 8,
   "metadata": {},
   "outputs": [],
   "source": [
    "\n",
    "trainSet = NUCLA_CrossView(root_list=data_files_list, phase='train',\n",
    "                            setup=setup, dataType=dataType,\n",
    "                            sampling=sampling, nClip=nClip,\n",
    "                            T=36, maskType=maskType) \n",
    "trainLoader = DataLoader(trainSet, shuffle=True,\n",
    "                             batch_size=16, num_workers=nw)\n",
    "\n",
    "testSet = NUCLA_CrossView(root_list=data_files_list, phase='test',\n",
    "                            setup=setup, dataType=dataType,\n",
    "                            sampling=sampling, nClip=nClip,\n",
    "                            T=36, maskType=maskType) \n",
    "testLoader = DataLoader(trainSet, shuffle=False,\n",
    "                             batch_size=16, num_workers=nw)"
   ]
  },
  {
   "cell_type": "code",
   "execution_count": 7,
   "metadata": {},
   "outputs": [
    {
     "name": "stdout",
     "output_type": "stream",
     "text": [
      "(array(['view_1', 'view_2'], dtype='<U6'), array([516, 504]))\n"
     ]
    }
   ],
   "source": [
    "train_views = [sample[0] for sample in trainSet.samples_list]\n",
    "print(np.unique(train_views, return_counts=True))\n",
    "    "
   ]
  },
  {
   "cell_type": "code",
   "execution_count": 8,
   "metadata": {},
   "outputs": [
    {
     "name": "stdout",
     "output_type": "stream",
     "text": [
      "(array([0.], dtype=float32), array([36720]))\n",
      "(array([1.], dtype=float32), array([36720]))\n"
     ]
    }
   ],
   "source": [
    "s_min = []\n",
    "s_max = []\n",
    "for i, sample in enumerate(trainLoader):\n",
    "    # setup batches\n",
    "    skeletons = sample['input_skeletons']['normSkeleton'].float().to(device)\n",
    "    # t = skeletons.shape[1] # (batch_size x num_clips) x t x num_joint x dim_joint\n",
    "    # gt_skeletons = skeletons.reshape(skeletons.shape[0], t, -1).to(device)\n",
    "    gt_skeletons = rearrange(skeletons, 'b u f j c -> (b u) f j c').cpu()\n",
    "    # if i == 0:\n",
    "    #     break\n",
    "\n",
    "\n",
    "    for sample in range(gt_skeletons.shape[0]):\n",
    "        for frame in range(gt_skeletons.shape[1]):\n",
    "            ske = gt_skeletons[sample][frame]\n",
    "            s_min.append(ske.min())\n",
    "            s_max.append(ske.max())\n",
    "\n",
    "print(np.unique(s_min, return_counts=True))\n",
    "print(np.unique(s_max, return_counts=True))"
   ]
  },
  {
   "cell_type": "code",
   "execution_count": 25,
   "metadata": {},
   "outputs": [
    {
     "data": {
      "text/plain": [
       "tensor([[2.3931e-01, 1.1672e-02],\n",
       "        [4.9270e-01, 1.5598e-01],\n",
       "        [2.5364e-01, 1.5220e-01],\n",
       "        [2.3923e-01, 2.7375e-01],\n",
       "        [0.0000e+00, 3.1163e-01],\n",
       "        [7.3249e-01, 1.5967e-01],\n",
       "        [1.0000e+00, 3.1184e-01],\n",
       "        [4.0847e-01, 3.4977e-01],\n",
       "        [4.5062e-01, 4.8289e-01],\n",
       "        [2.6785e-01, 4.7530e-01],\n",
       "        [3.6659e-01, 7.1118e-01],\n",
       "        [3.6555e-01, 9.0867e-01],\n",
       "        [5.9145e-01, 4.9040e-01],\n",
       "        [5.9120e-01, 7.2998e-01],\n",
       "        [6.0565e-01, 9.4289e-01],\n",
       "        [2.3868e-01, 0.0000e+00],\n",
       "        [3.5122e-01, 5.2434e-05],\n",
       "        [0.0000e+00, 0.0000e+00],\n",
       "        [5.9100e-01, 1.1699e-02],\n",
       "        [3.5248e-01, 9.8864e-01],\n",
       "        [4.6457e-01, 1.0000e+00],\n",
       "        [6.9030e-01, 9.5812e-01],\n",
       "        [1.4077e-01, 9.4667e-01],\n",
       "        [1.4074e-01, 9.2778e-01],\n",
       "        [3.8040e-01, 9.2414e-01]], device='cuda:0')"
      ]
     },
     "execution_count": 25,
     "metadata": {},
     "output_type": "execute_result"
    }
   ],
   "source": [
    "gt_skeletons[0][0]"
   ]
  },
  {
   "cell_type": "code",
   "execution_count": 10,
   "metadata": {},
   "outputs": [
    {
     "name": "stdout",
     "output_type": "stream",
     "text": [
      "Required key 'dictionary_filename' not found in configuration file. Using default value of None\n"
     ]
    },
    {
     "ename": "AttributeError",
     "evalue": "'numpy.ndarray' object has no attribute 'detach'",
     "output_type": "error",
     "traceback": [
      "\u001b[0;31m---------------------------------------------------------------------------\u001b[0m",
      "\u001b[0;31mAttributeError\u001b[0m                            Traceback (most recent call last)",
      "Cell \u001b[0;32mIn[10], line 3\u001b[0m\n\u001b[1;32m      1\u001b[0m training_loss \u001b[38;5;241m=\u001b[39m []\n\u001b[1;32m      2\u001b[0m C_list \u001b[38;5;241m=\u001b[39m []\n\u001b[0;32m----> 3\u001b[0m dyan \u001b[38;5;241m=\u001b[39m Dyan(device, config_filename\u001b[38;5;241m=\u001b[39m\u001b[38;5;124m'\u001b[39m\u001b[38;5;124mdyan_config\u001b[39m\u001b[38;5;124m'\u001b[39m, train_new_dict\u001b[38;5;241m=\u001b[39m\u001b[38;5;28;01mTrue\u001b[39;00m)\n\u001b[1;32m      4\u001b[0m dyan\u001b[38;5;241m.\u001b[39mto(device)\n\u001b[1;32m      5\u001b[0m dyan\u001b[38;5;241m.\u001b[39meval()\n",
      "File \u001b[0;32m~/sparse_recovery_tests/Dyan.py:176\u001b[0m, in \u001b[0;36mDyan.__init__\u001b[0;34m(self, device, config_filename, train_new_dict)\u001b[0m\n\u001b[1;32m    174\u001b[0m \u001b[38;5;28;01melif\u001b[39;00m \u001b[38;5;28mself\u001b[39m\u001b[38;5;241m.\u001b[39mtrain_new_dict \u001b[38;5;241m==\u001b[39m \u001b[38;5;28;01mTrue\u001b[39;00m \u001b[38;5;129;01mand\u001b[39;00m \u001b[38;5;28mself\u001b[39m\u001b[38;5;241m.\u001b[39mdictionary_filename \u001b[38;5;241m==\u001b[39m \u001b[38;5;28;01mNone\u001b[39;00m:\n\u001b[1;32m    175\u001b[0m     \u001b[38;5;28mself\u001b[39m\u001b[38;5;241m.\u001b[39mradius, \u001b[38;5;28mself\u001b[39m\u001b[38;5;241m.\u001b[39mangles \u001b[38;5;241m=\u001b[39m get_Drr_Dtheta(\u001b[38;5;28mself\u001b[39m\u001b[38;5;241m.\u001b[39mNp)\n\u001b[0;32m--> 176\u001b[0m     \u001b[38;5;28mself\u001b[39m\u001b[38;5;241m.\u001b[39mr \u001b[38;5;241m=\u001b[39m nn\u001b[38;5;241m.\u001b[39mParameter(\u001b[38;5;28mself\u001b[39m\u001b[38;5;241m.\u001b[39mradius, requires_grad\u001b[38;5;241m=\u001b[39m\u001b[38;5;28;01mTrue\u001b[39;00m)\n\u001b[1;32m    177\u001b[0m     \u001b[38;5;28mself\u001b[39m\u001b[38;5;241m.\u001b[39mtheta \u001b[38;5;241m=\u001b[39m nn\u001b[38;5;241m.\u001b[39mParameter(\u001b[38;5;28mself\u001b[39m\u001b[38;5;241m.\u001b[39mangles, requires_grad\u001b[38;5;241m=\u001b[39m\u001b[38;5;28;01mTrue\u001b[39;00m)\n\u001b[1;32m    178\u001b[0m \u001b[38;5;28;01melse\u001b[39;00m:\n",
      "File \u001b[0;32m~/.conda/envs/torch/lib/python3.12/site-packages/torch/nn/parameter.py:49\u001b[0m, in \u001b[0;36mParameter.__new__\u001b[0;34m(cls, data, requires_grad)\u001b[0m\n\u001b[1;32m     46\u001b[0m     \u001b[38;5;28;01mreturn\u001b[39;00m torch\u001b[38;5;241m.\u001b[39mTensor\u001b[38;5;241m.\u001b[39m_make_subclass(\u001b[38;5;28mcls\u001b[39m, data, requires_grad)\n\u001b[1;32m     48\u001b[0m \u001b[38;5;66;03m# Path for custom tensors: set a flag on the instance to indicate parameter-ness.\u001b[39;00m\n\u001b[0;32m---> 49\u001b[0m t \u001b[38;5;241m=\u001b[39m data\u001b[38;5;241m.\u001b[39mdetach()\u001b[38;5;241m.\u001b[39mrequires_grad_(requires_grad)\n\u001b[1;32m     50\u001b[0m \u001b[38;5;28;01mif\u001b[39;00m \u001b[38;5;28mtype\u001b[39m(t) \u001b[38;5;129;01mis\u001b[39;00m \u001b[38;5;129;01mnot\u001b[39;00m \u001b[38;5;28mtype\u001b[39m(data):\n\u001b[1;32m     51\u001b[0m     \u001b[38;5;28;01mraise\u001b[39;00m \u001b[38;5;167;01mRuntimeError\u001b[39;00m(\n\u001b[1;32m     52\u001b[0m         \u001b[38;5;124mf\u001b[39m\u001b[38;5;124m\"\u001b[39m\u001b[38;5;124mCreating a Parameter from an instance of type \u001b[39m\u001b[38;5;132;01m{\u001b[39;00m\u001b[38;5;28mtype\u001b[39m(data)\u001b[38;5;241m.\u001b[39m\u001b[38;5;18m__name__\u001b[39m\u001b[38;5;132;01m}\u001b[39;00m\u001b[38;5;124m \u001b[39m\u001b[38;5;124m\"\u001b[39m\n\u001b[1;32m     53\u001b[0m         \u001b[38;5;124m\"\u001b[39m\u001b[38;5;124mrequires that detach() returns an instance of the same type, but return \u001b[39m\u001b[38;5;124m\"\u001b[39m\n\u001b[0;32m   (...)\u001b[0m\n\u001b[1;32m     56\u001b[0m         \u001b[38;5;124m\"\u001b[39m\u001b[38;5;124mits __torch_dispatch__() implementation.\u001b[39m\u001b[38;5;124m\"\u001b[39m\n\u001b[1;32m     57\u001b[0m     )\n",
      "\u001b[0;31mAttributeError\u001b[0m: 'numpy.ndarray' object has no attribute 'detach'"
     ]
    }
   ],
   "source": [
    "training_loss = []\n",
    "C_list = []\n",
    "dyan = Dyan(device, config_filename='dyan_config', train_new_dict=True)\n",
    "dyan.to(device)\n",
    "dyan.eval()\n",
    "mseloss = nn.MSELoss()\n",
    "\n",
    "optimizer = torch.optim.SGD(filter(lambda x: x.requires_grad, dyan.parameters()), \n",
    "                            lr=learning_rate, weight_decay=0.001, momentum=0.9)\n",
    "\n",
    "for i, sample in enumerate(trainLoader):\n",
    "    # setup batches\n",
    "    skeletons = sample['input_skeletons']['normSkeleton'].float().to(device)\n",
    "    t = skeletons.shape[1] # (batch_size x num_clips) x t x num_joint x dim_joint\n",
    "    gt_skeletons = skeletons.reshape(skeletons.shape[0], t, -1).to(device)\n",
    "    \n",
    "    \n",
    "    pred_skeletons, C_pred = dyan(gt_skeletons)\n",
    "    training_loss.append(mseloss(pred_skeletons, gt_skeletons))\n",
    "    C_list.append(C_pred)\n",
    "    "
   ]
  },
  {
   "cell_type": "code",
   "execution_count": null,
   "metadata": {},
   "outputs": [
    {
     "data": {
      "text/plain": [
       "device(type='cpu')"
      ]
     },
     "execution_count": 29,
     "metadata": {},
     "output_type": "execute_result"
    }
   ],
   "source": [
    "dyan.to(device)\n",
    "dyan.dictionary_.device"
   ]
  },
  {
   "cell_type": "code",
   "execution_count": 5,
   "metadata": {},
   "outputs": [],
   "source": [
    "def gridRing(N):\n",
    "    # epsilon_low = 0.25\n",
    "    # epsilon_high = 0.15\n",
    "    # rmin = (1 - epsilon_low)\n",
    "    # rmax = (1 + epsilon_high)\n",
    "\n",
    "    # epsilon_low = 0.25\n",
    "    epsilon_low = 0.15\n",
    "    epsilon_high = 0.15\n",
    "    rmin = (1 - epsilon_low)\n",
    "    rmax = (1 + epsilon_high)\n",
    "\n",
    "    thetaMin = 0.001\n",
    "    thetaMax = np.pi - 0.001\n",
    "    delta = 0.001\n",
    "    # Npole = int(N / 4)\n",
    "    Npole = int(N/2)\n",
    "    Pool = generateGridPoles(delta, rmin, rmax, thetaMin, thetaMax)\n",
    "    M = len(Pool)\n",
    "\n",
    "    idx = random.sample(range(0, M), Npole)\n",
    "    P = Pool[idx]\n",
    "    # Pall = np.concatenate((P, -P, np.conjugate(P), np.conjugate(-P)), axis=0)\n",
    "    Pall = np.concatenate((P, np.conjugate(P)), axis=0)  # mirror once\n",
    "\n",
    "    return P, Pall\n",
    "\n",
    "\n",
    "## Generate the grid on poles\n",
    "def generateGridPoles(delta, rmin, rmax, thetaMin, thetaMax):\n",
    "    rmin2 = pow(rmin, 2)\n",
    "    rmax2 = pow(rmax, 2)\n",
    "    xv = np.arange(-rmax, rmax, delta)\n",
    "    x, y = np.meshgrid(xv, xv, sparse=False)\n",
    "    mask = np.logical_and(np.logical_and(x ** 2 + y ** 2 >= rmin2, x ** 2 + y ** 2 <= rmax2),\n",
    "                          np.logical_and(np.angle(x + 1j * y) >= thetaMin, np.angle(x + 1j * y) <= thetaMax))\n",
    "    px = x[mask]\n",
    "    py = y[mask]\n",
    "    P = px + 1j * py\n",
    "\n",
    "    return P\n",
    "\n",
    "\n",
    "def get_Drr_Dtheta(N):\n",
    "    P, Pall = gridRing(N)\n",
    "    Drr = abs(P)\n",
    "    # Drr = torch.from_numpy(Drr).float()\n",
    "    Dtheta = np.angle(P)\n",
    "    # Dtheta = torch.from_numpy(Dtheta).float()s\n",
    "    return Drr, Dtheta"
   ]
  },
  {
   "cell_type": "code",
   "execution_count": 17,
   "metadata": {},
   "outputs": [
    {
     "name": "stdout",
     "output_type": "stream",
     "text": [
      "(80,)\n",
      "(160,)\n"
     ]
    }
   ],
   "source": [
    "P, Pall = gridRing(161)\n",
    "Drr = abs(P)\n",
    "# Drr = torch.from_numpy(Drr).float()\n",
    "Dtheta = np.angle(P)\n",
    "# Dtheta = torch.from_numpy(Dtheta).float()s\n",
    "print(P.shape)\n",
    "print(Pall.shape)"
   ]
  },
  {
   "cell_type": "code",
   "execution_count": null,
   "metadata": {},
   "outputs": [],
   "source": [
    "import torch\n",
    "\n",
    "# some constants\n",
    "n_poles = (161 - 1) / 2\n",
    "epsilon = torch.tensor(0.15).double()\n",
    "delta = torch.tensor(0.001).double()\n",
    "\n",
    "# define the domain\n",
    "r2_min = torch.pow(1 - epsilon, 2)\n",
    "r2_max = torch.pow(1 + epsilon, 2)\n",
    "theta_min = delta\n",
    "theta_max = torch.pi - delta\n",
    "\n",
    "\n",
    "mesh_range = torch.arange(-r2_max, r2_max, delta)\n",
    "\n",
    "torch.meshgrid(mesh_range, mesh_range, sparse=False)\n"
   ]
  },
  {
   "cell_type": "code",
   "execution_count": 9,
   "metadata": {},
   "outputs": [
    {
     "data": {
      "text/plain": [
       "array([0, 0, 0, 0, 0, 0, 0, 0, 0, 0])"
      ]
     },
     "execution_count": 9,
     "metadata": {},
     "output_type": "execute_result"
    }
   ],
   "source": [
    "np.arange(10) % 1"
   ]
  },
  {
   "cell_type": "code",
   "execution_count": null,
   "metadata": {},
   "outputs": [],
   "source": []
  }
 ],
 "metadata": {
  "kernelspec": {
   "display_name": "torch",
   "language": "python",
   "name": "python3"
  },
  "language_info": {
   "codemirror_mode": {
    "name": "ipython",
    "version": 3
   },
   "file_extension": ".py",
   "mimetype": "text/x-python",
   "name": "python",
   "nbconvert_exporter": "python",
   "pygments_lexer": "ipython3",
   "version": "3.12.7"
  }
 },
 "nbformat": 4,
 "nbformat_minor": 2
}
