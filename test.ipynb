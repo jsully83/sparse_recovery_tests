{
 "cells": [
  {
   "cell_type": "code",
   "execution_count": 1,
   "metadata": {},
   "outputs": [],
   "source": [
    "%reload_ext autoreload\n",
    "%autoreload 2"
   ]
  },
  {
   "cell_type": "code",
   "execution_count": 2,
   "metadata": {},
   "outputs": [],
   "source": [
    "from pathlib import Path\n",
    "import torch\n",
    "import torch.nn as nn \n",
    "from torch.utils.data import DataLoader\n",
    "import numpy as np\n",
    "import matplotlib.pyplot as plt\n",
    "import random\n",
    "\n",
    "from crossView_UCLA_ske import NUCLA_CrossView\n",
    "from Dyan import Dyan\n",
    "from torch.utils.tensorboard import SummaryWriter\n",
    "\n",
    "\n"
   ]
  },
  {
   "cell_type": "code",
   "execution_count": 3,
   "metadata": {},
   "outputs": [],
   "source": [
    "setup = 'setup1'\n",
    "dataType = '2D'\n",
    "sampling = 'Single'\n",
    "nClip = 1\n",
    "maskType = 'None'\n",
    "nw = 8\n",
    "\n",
    "learning_rate = 1.0e-4"
   ]
  },
  {
   "cell_type": "code",
   "execution_count": 4,
   "metadata": {},
   "outputs": [
    {
     "name": "stdout",
     "output_type": "stream",
     "text": [
      "NVIDIA GeForce RTX 2080 Ti\n",
      "Required key 'dictionary_filename' not found in configuration file. Using default value of None\n",
      "Loaded configuration from /home/jonathan/sparse_recovery_tests/config/dyan_config.yaml\n",
      "Generated random dictionary polesr cuda:0 th cuda:0\n",
      " and normalized it.\n"
     ]
    },
    {
     "ename": "ValueError",
     "evalue": "optimizer got an empty parameter list",
     "output_type": "error",
     "traceback": [
      "\u001b[0;31m---------------------------------------------------------------------------\u001b[0m",
      "\u001b[0;31mValueError\u001b[0m                                Traceback (most recent call last)",
      "Cell \u001b[0;32mIn[4], line 52\u001b[0m\n\u001b[1;32m     45\u001b[0m testSet \u001b[38;5;241m=\u001b[39m NUCLA_CrossView(root_list\u001b[38;5;241m=\u001b[39mdata_files_list, phase\u001b[38;5;241m=\u001b[39m\u001b[38;5;124m'\u001b[39m\u001b[38;5;124mtest\u001b[39m\u001b[38;5;124m'\u001b[39m,\n\u001b[1;32m     46\u001b[0m                             setup\u001b[38;5;241m=\u001b[39msetup, dataType\u001b[38;5;241m=\u001b[39mdataType,\n\u001b[1;32m     47\u001b[0m                             sampling\u001b[38;5;241m=\u001b[39msampling, nClip\u001b[38;5;241m=\u001b[39mnClip,\n\u001b[1;32m     48\u001b[0m                             T\u001b[38;5;241m=\u001b[39mdyan\u001b[38;5;241m.\u001b[39mT, maskType\u001b[38;5;241m=\u001b[39mmaskType) \n\u001b[1;32m     49\u001b[0m testLoader \u001b[38;5;241m=\u001b[39m DataLoader(trainSet, shuffle\u001b[38;5;241m=\u001b[39m\u001b[38;5;28;01mFalse\u001b[39;00m,\n\u001b[1;32m     50\u001b[0m                              batch_size\u001b[38;5;241m=\u001b[39mdyan\u001b[38;5;241m.\u001b[39mbatch_size, num_workers\u001b[38;5;241m=\u001b[39mnw)\n\u001b[0;32m---> 52\u001b[0m optimizer \u001b[38;5;241m=\u001b[39m torch\u001b[38;5;241m.\u001b[39moptim\u001b[38;5;241m.\u001b[39mSGD(\u001b[38;5;28mfilter\u001b[39m(\u001b[38;5;28;01mlambda\u001b[39;00m x: x\u001b[38;5;241m.\u001b[39mrequires_grad, dyan\u001b[38;5;241m.\u001b[39mparameters()), \n\u001b[1;32m     53\u001b[0m                             lr\u001b[38;5;241m=\u001b[39mlearning_rate, weight_decay\u001b[38;5;241m=\u001b[39m\u001b[38;5;241m0.001\u001b[39m, momentum\u001b[38;5;241m=\u001b[39m\u001b[38;5;241m0.9\u001b[39m)\n\u001b[1;32m     55\u001b[0m loss \u001b[38;5;241m=\u001b[39m nn\u001b[38;5;241m.\u001b[39mMSELoss()\n\u001b[1;32m     57\u001b[0m \u001b[38;5;28;01mfor\u001b[39;00m i, sample \u001b[38;5;129;01min\u001b[39;00m \u001b[38;5;28menumerate\u001b[39m(trainLoader):\n\u001b[1;32m     58\u001b[0m     \u001b[38;5;66;03m# setup batches\u001b[39;00m\n",
      "File \u001b[0;32m~/miniconda3/envs/torch/lib/python3.12/site-packages/torch/optim/sgd.py:61\u001b[0m, in \u001b[0;36mSGD.__init__\u001b[0;34m(self, params, lr, momentum, dampening, weight_decay, nesterov, maximize, foreach, differentiable, fused)\u001b[0m\n\u001b[1;32m     59\u001b[0m \u001b[38;5;28;01mif\u001b[39;00m nesterov \u001b[38;5;129;01mand\u001b[39;00m (momentum \u001b[38;5;241m<\u001b[39m\u001b[38;5;241m=\u001b[39m \u001b[38;5;241m0\u001b[39m \u001b[38;5;129;01mor\u001b[39;00m dampening \u001b[38;5;241m!=\u001b[39m \u001b[38;5;241m0\u001b[39m):\n\u001b[1;32m     60\u001b[0m     \u001b[38;5;28;01mraise\u001b[39;00m \u001b[38;5;167;01mValueError\u001b[39;00m(\u001b[38;5;124m\"\u001b[39m\u001b[38;5;124mNesterov momentum requires a momentum and zero dampening\u001b[39m\u001b[38;5;124m\"\u001b[39m)\n\u001b[0;32m---> 61\u001b[0m \u001b[38;5;28msuper\u001b[39m()\u001b[38;5;241m.\u001b[39m\u001b[38;5;21m__init__\u001b[39m(params, defaults)\n\u001b[1;32m     63\u001b[0m \u001b[38;5;28;01mif\u001b[39;00m fused:\n\u001b[1;32m     64\u001b[0m     \u001b[38;5;28mself\u001b[39m\u001b[38;5;241m.\u001b[39m_step_supports_amp_scaling \u001b[38;5;241m=\u001b[39m \u001b[38;5;28;01mTrue\u001b[39;00m\n",
      "File \u001b[0;32m~/miniconda3/envs/torch/lib/python3.12/site-packages/torch/optim/optimizer.py:366\u001b[0m, in \u001b[0;36mOptimizer.__init__\u001b[0;34m(self, params, defaults)\u001b[0m\n\u001b[1;32m    364\u001b[0m param_groups \u001b[38;5;241m=\u001b[39m \u001b[38;5;28mlist\u001b[39m(params)\n\u001b[1;32m    365\u001b[0m \u001b[38;5;28;01mif\u001b[39;00m \u001b[38;5;28mlen\u001b[39m(param_groups) \u001b[38;5;241m==\u001b[39m \u001b[38;5;241m0\u001b[39m:\n\u001b[0;32m--> 366\u001b[0m     \u001b[38;5;28;01mraise\u001b[39;00m \u001b[38;5;167;01mValueError\u001b[39;00m(\u001b[38;5;124m\"\u001b[39m\u001b[38;5;124moptimizer got an empty parameter list\u001b[39m\u001b[38;5;124m\"\u001b[39m)\n\u001b[1;32m    367\u001b[0m \u001b[38;5;28;01mif\u001b[39;00m \u001b[38;5;129;01mnot\u001b[39;00m \u001b[38;5;28misinstance\u001b[39m(param_groups[\u001b[38;5;241m0\u001b[39m], \u001b[38;5;28mdict\u001b[39m):\n\u001b[1;32m    368\u001b[0m     param_groups \u001b[38;5;241m=\u001b[39m [{\u001b[38;5;124m\"\u001b[39m\u001b[38;5;124mparams\u001b[39m\u001b[38;5;124m\"\u001b[39m: param_groups}]\n",
      "\u001b[0;31mValueError\u001b[0m: optimizer got an empty parameter list"
     ]
    }
   ],
   "source": [
    "seed = 1337\n",
    "\n",
    "# Set seed for PyTorch (CPU)\n",
    "torch.manual_seed(seed)\n",
    "random.seed(seed)\n",
    "np.random.seed(seed)\n",
    "\n",
    "# Set seed for PyTorch (GPU)\n",
    "if torch.cuda.is_available():\n",
    "    torch.cuda.manual_seed(seed)\n",
    "    torch.cuda.manual_seed_all(seed)  # If you use multiple GPUs\n",
    "\n",
    "# Make PyTorch operations deterministic (slows down computation but improves reproducibility)\n",
    "torch.backends.cudnn.deterministic = True\n",
    "torch.backends.cudnn.benchmark = False\n",
    "\n",
    "device = torch.device('cuda'if torch.cuda.is_available() else 'cpu')\n",
    "print(torch.cuda.get_device_name())\n",
    "\n",
    "test_name = 'default'\n",
    "output_path = Path('/home/jonathan/sparse_recovery_tests/tests').joinpath(test_name)\n",
    "output_path.mkdir(parents=True, exist_ok=True)\n",
    "\n",
    "data_files_list = Path().joinpath('/data', 'datasets', 'N-UCLA_MA_3D')\n",
    "if data_files_list.exists():\n",
    "        data_files_list = data_files_list.as_posix() + f\"/data/CV/{setup}/\"\n",
    "\n",
    "writer = SummaryWriter(output_path)\n",
    "\n",
    "\n",
    "dyan = Dyan(device, 'dyan_config')\n",
    "dyan.to(device)\n",
    "\n",
    "# Print out parameters and their requires_grad status\n",
    "# for name, param in dyan.named_parameters():\n",
    "#     print(f\"Parameter name: {name}, requires_grad={param.requires_grad}\")\n",
    "\n",
    "trainSet = NUCLA_CrossView(root_list=data_files_list, phase='train',\n",
    "                            setup=setup, dataType=dataType,\n",
    "                            sampling=sampling, nClip=nClip,\n",
    "                            T=dyan.T, maskType=maskType) \n",
    "trainLoader = DataLoader(trainSet, shuffle=True,\n",
    "                             batch_size=dyan.batch_size, num_workers=nw)\n",
    "\n",
    "testSet = NUCLA_CrossView(root_list=data_files_list, phase='test',\n",
    "                            setup=setup, dataType=dataType,\n",
    "                            sampling=sampling, nClip=nClip,\n",
    "                            T=dyan.T, maskType=maskType) \n",
    "testLoader = DataLoader(trainSet, shuffle=False,\n",
    "                             batch_size=dyan.batch_size, num_workers=nw)\n",
    "\n",
    "optimizer = torch.optim.SGD(filter(lambda x: x.requires_grad, dyan.parameters()), \n",
    "                            lr=learning_rate, weight_decay=0.001, momentum=0.9)\n",
    "\n",
    "loss = nn.MSELoss()\n",
    "\n",
    "for i, sample in enumerate(trainLoader):\n",
    "    # setup batches\n",
    "    skeletons = sample['input_skeletons']['normSkeleton'].float().to(device)\n",
    "    t = skeletons.shape[1] # (batch_size x num_clips) x t x num_joint x dim_joint\n",
    "    input_skeletons = skeletons.reshape(skeletons.shape[0], t, -1).to(device)\n",
    "    \n",
    "    optimizer.zero_grad()\n",
    "    \n",
    "    Y_pred, C_pred = dyan(input_skeletons)\n",
    "    \n",
    "    if i == 0:\n",
    "        break\n",
    "\n"
   ]
  },
  {
   "cell_type": "code",
   "execution_count": 6,
   "metadata": {},
   "outputs": [],
   "source": [
    "for name, param in dyan.named_parameters():\n",
    "    print(f\"Parameter: {name}, requires_grad: {param.requires_grad}\")"
   ]
  }
 ],
 "metadata": {
  "kernelspec": {
   "display_name": "torch",
   "language": "python",
   "name": "python3"
  },
  "language_info": {
   "codemirror_mode": {
    "name": "ipython",
    "version": 3
   },
   "file_extension": ".py",
   "mimetype": "text/x-python",
   "name": "python",
   "nbconvert_exporter": "python",
   "pygments_lexer": "ipython3",
   "version": "3.12.2"
  }
 },
 "nbformat": 4,
 "nbformat_minor": 2
}
